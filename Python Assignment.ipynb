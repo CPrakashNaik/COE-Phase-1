{
 "cells": [
  {
   "cell_type": "markdown",
   "id": "26582df8-fe37-4d48-a429-b52bbdbd687e",
   "metadata": {},
   "source": [
    "# E-Commerce Cart System"
   ]
  },
  {
   "cell_type": "code",
   "execution_count": 1,
   "id": "f283169a-11b1-415d-bc97-726b3dea0a1c",
   "metadata": {},
   "outputs": [
    {
     "name": "stdout",
     "output_type": "stream",
     "text": [
      "Total Price: 54000\n"
     ]
    }
   ],
   "source": [
    "def calculate_total(cart):\n",
    "    if not cart:\n",
    "        return \"Cart is empty\"\n",
    "    total = sum(cart.values())\n",
    "    if len(cart) > 5:\n",
    "        total *= 0.9\n",
    "    return f\"Total Price: {total}\"\n",
    "cart_items = {'Laptop': 50000, 'Headphones': 2000, 'Mouse': 500, 'Keyboard': 1500}\n",
    "print(calculate_total(cart_items))\n"
   ]
  },
  {
   "cell_type": "markdown",
   "id": "b93f90f7-2573-48de-a6b4-5602412a84d1",
   "metadata": {},
   "source": [
    "# Restaurant Menu Management"
   ]
  },
  {
   "cell_type": "code",
   "execution_count": 3,
   "id": "3ee6fd67-2aad-4ea3-a8be-ad8a53fb3011",
   "metadata": {},
   "outputs": [
    {
     "name": "stdout",
     "output_type": "stream",
     "text": [
      "Updated menu: ['Pizza', 'Burger', 'Pasta', 'Tacos']\n",
      "Pizza is available\n"
     ]
    }
   ],
   "source": [
    "def update_menu(menu, add=None, remove=None, check=None):\n",
    "    if add: menu.append(add)\n",
    "    if remove and remove in menu: menu.remove(remove)\n",
    "    if check: return f\"{check} is available\" if check in menu else f\"{check} is not available\"\n",
    "    return menu\n",
    "menu = [\"Pizza\", \"Burger\", \"Pasta\", \"Salad\"]\n",
    "print(\"Updated menu:\", update_menu(menu, add=\"Tacos\", remove=\"Salad\"))\n",
    "print(update_menu(menu, check=\"Pizza\"))\n"
   ]
  },
  {
   "cell_type": "markdown",
   "id": "9b2cd147-cb7a-49c6-a147-daa1906e8fa9",
   "metadata": {},
   "source": [
    "# Classroom Performance Tracker"
   ]
  },
  {
   "cell_type": "code",
   "execution_count": 4,
   "id": "7bcf9fe2-69d4-4f3e-a006-e28f6de5c680",
   "metadata": {},
   "outputs": [
    {
     "name": "stdout",
     "output_type": "stream",
     "text": [
      "Average Marks: {'John': 85.0, 'Alice': 87.33, 'Bob': 75.0}\n",
      "Top Performer: Alice\n"
     ]
    }
   ],
   "source": [
    "def track_performance(students):\n",
    "    avg = {name: round(sum(m)/len(m), 2) for name, m in students.items()}\n",
    "    top = max(avg, key=avg.get)\n",
    "    return avg, top\n",
    "students = {\"John\": [85, 78, 92], \"Alice\": [88, 79, 95], \"Bob\": [70, 75, 80]}\n",
    "avg, top = track_performance(students)\n",
    "print(\"Average Marks:\", avg)\n",
    "print(\"Top Performer:\", top)\n"
   ]
  },
  {
   "cell_type": "markdown",
   "id": "3c248277-c27c-4633-ab14-a6f321328cba",
   "metadata": {},
   "source": [
    "# Movie Ticket Booking System"
   ]
  },
  {
   "cell_type": "code",
   "execution_count": 5,
   "id": "7b2c5cb3-8727-4a99-8559-1261d349d3f4",
   "metadata": {},
   "outputs": [
    {
     "name": "stdout",
     "output_type": "stream",
     "text": [
      "Available seats: [1, 4, 5, 6, 8, 9, 10]\n"
     ]
    }
   ],
   "source": [
    "def manage_seats(total, booked, book=None, cancel=None):\n",
    "    if book and book not in booked: booked.append(book)\n",
    "    if cancel and cancel in booked: booked.remove(cancel)\n",
    "    available = [s for s in range(1, total+1) if s not in booked]\n",
    "    return available\n",
    "print(\"Available seats:\", manage_seats(10, [2, 5, 7], book=3, cancel=5))\n"
   ]
  },
  {
   "cell_type": "markdown",
   "id": "c030fc54-9d74-4176-9fd7-59202fbca0e4",
   "metadata": {},
   "source": [
    "# Hospital Patient Management"
   ]
  },
  {
   "cell_type": "code",
   "execution_count": 6,
   "id": "4d8a97d5-4cdb-44ba-a665-c8f5682b87b4",
   "metadata": {},
   "outputs": [
    {
     "name": "stdout",
     "output_type": "stream",
     "text": [
      "Patients with Flu: ['Alice', 'Charlie']\n"
     ]
    }
   ],
   "source": [
    "def search_by_disease(patients, disease):\n",
    "    return [p[\"Name\"] for p in patients if p[\"Disease\"] == disease]\n",
    "patients = [\n",
    "    {\"Name\": \"Alice\", \"Age\": 30, \"Disease\": \"Flu\"},\n",
    "    {\"Name\": \"Bob\", \"Age\": 45, \"Disease\": \"Diabetes\"},\n",
    "    {\"Name\": \"Charlie\", \"Age\": 35, \"Disease\": \"Flu\"}\n",
    "]\n",
    "print(\"Patients with Flu:\", search_by_disease(patients, \"Flu\"))\n"
   ]
  },
  {
   "cell_type": "markdown",
   "id": "65f26022-7ff6-4e90-b1ff-303bfcda1ab3",
   "metadata": {},
   "source": [
    "# Customer Feedback Analysis"
   ]
  },
  {
   "cell_type": "code",
   "execution_count": 7,
   "id": "aa41699b-7383-4df3-ba7e-4ccc5ddd6cd8",
   "metadata": {},
   "outputs": [
    {
     "name": "stdout",
     "output_type": "stream",
     "text": [
      "Positive Feedback: 62.5%\n"
     ]
    }
   ],
   "source": [
    "def positive_feedback(ratings):\n",
    "    if not ratings: return \"No feedback\"\n",
    "    positive = sum(1 for r in ratings if r >= 4)\n",
    "    return f\"Positive Feedback: {positive / len(ratings) * 100:.1f}%\"\n",
    "print(positive_feedback([5, 4, 3, 5, 2, 4, 1, 5]))\n"
   ]
  },
  {
   "cell_type": "markdown",
   "id": "9e0773d4-130d-4225-abd3-31495e7ace04",
   "metadata": {},
   "source": [
    "# Taxi Fare Calculation "
   ]
  },
  {
   "cell_type": "code",
   "execution_count": 8,
   "id": "4f40e49a-96f1-4752-a6e7-a46d59b3122d",
   "metadata": {},
   "outputs": [
    {
     "name": "stdout",
     "output_type": "stream",
     "text": [
      "Trip 1: $100\n",
      "Trip 2: $150\n",
      "Trip 3: $80\n",
      "Total Fare: $330\n"
     ]
    }
   ],
   "source": [
    "def taxi_fare(trips):\n",
    "    fares = [(i+1, 50 + 10*d) for i, d in enumerate(trips)]\n",
    "    for trip, fare in fares:\n",
    "        print(f\"Trip {trip}: ${fare}\")\n",
    "    print(f\"Total Fare: ${sum(f for _, f in fares)}\")\n",
    "taxi_fare([5, 10, 3])\n"
   ]
  },
  {
   "cell_type": "code",
   "execution_count": null,
   "id": "14785904-b312-46ef-a8b3-c46a137a968d",
   "metadata": {},
   "outputs": [],
   "source": []
  }
 ],
 "metadata": {
  "kernelspec": {
   "display_name": "Python 3 (ipykernel)",
   "language": "python",
   "name": "python3"
  },
  "language_info": {
   "codemirror_mode": {
    "name": "ipython",
    "version": 3
   },
   "file_extension": ".py",
   "mimetype": "text/x-python",
   "name": "python",
   "nbconvert_exporter": "python",
   "pygments_lexer": "ipython3",
   "version": "3.11.7"
  }
 },
 "nbformat": 4,
 "nbformat_minor": 5
}
