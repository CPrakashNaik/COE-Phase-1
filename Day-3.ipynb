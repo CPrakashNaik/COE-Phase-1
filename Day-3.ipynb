{
 "cells": [
  {
   "cell_type": "code",
   "execution_count": null,
   "id": "34c88292-6f20-4eee-85bb-630dbe99e6ec",
   "metadata": {},
   "outputs": [],
   "source": [
    "num=5632 #find number of digit\n",
    "count=0\n",
    "while num!=0:\n",
    "    num=num//10\n",
    "    count=count+1\n",
    "print(count)    "
   ]
  },
  {
   "cell_type": "code",
   "execution_count": null,
   "id": "2e1e6097-54cd-4ee4-acba-33ce89993a6c",
   "metadata": {},
   "outputs": [],
   "source": [
    "#print no. of even digit &odd digit\n",
    "\n",
    "num=783781\n",
    "rem=0\n",
    "evencount=0\n",
    "oddcount=0\n",
    "while (num!=0):\n",
    "    rem=num%10     #783781%10----->1\n",
    "    if (rem%2==0):\n",
    "        evencount=evencount+1\n",
    "    else:\n",
    "        oddcount=oddcount+1\n",
    "        \n",
    "print(\"No. of EVEN count:\",evencount)\n",
    "print(\"No. of ODD count:\",oddcount)"
   ]
  },
  {
   "cell_type": "code",
   "execution_count": null,
   "id": "e9afb944-5a8a-47a3-ad87-d35372e55291",
   "metadata": {},
   "outputs": [],
   "source": [
    "#print no. of even digit &odd digit\n",
    "\n",
    "num=783781\n",
    "rem=0\n",
    "evensum=0\n",
    "oddsum=0\n",
    "while (num!=0):\n",
    "    rem=num%10     #783781%10----->1\n",
    "    if (rem%2==0):\n",
    "        evensum=evensum+rem\n",
    "    else:\n",
    "        oddsum=oddsum+rem\n",
    "    num=num//10    \n",
    "        \n",
    "print(\"No. of EVEN count:\",evencount)\n",
    "print(\"No. of ODD count:\",oddcount)"
   ]
  },
  {
   "cell_type": "code",
   "execution_count": null,
   "id": "8debe732-bfb0-412e-b1a0-be3ac5865aae",
   "metadata": {},
   "outputs": [],
   "source": [
    "num=50\n",
    "count=0\n",
    "i=1\n",
    "while i<=num//2:\n",
    "    if num%i==0:\n",
    "        count=count+1\n",
    "        i=i+1\n",
    "        #print(i)\n",
    "if count==1:\n",
    "    print(\"prime:\")\n",
    "else:\n",
    "    print(\"no. of prime no. :\")\n",
    "print(\"no.of Factor:\",count)        "
   ]
  },
  {
   "cell_type": "code",
   "execution_count": null,
   "id": "505bca1d-9a6c-4191-8f60-411810606686",
   "metadata": {},
   "outputs": [],
   "source": [
    "num=100\n",
    "count=0\n",
    "n=1\n",
    "while n<=100:\n",
    "    num=n\n",
    "    i=1\n",
    "    count=0\n",
    "    while i<=num//2:\n",
    "        if num%i==1\n",
    "        i=i+1  \n",
    "    if count==1:\n",
    "        print(num)\n",
    "    n=n+1\n"
   ]
  },
  {
   "cell_type": "code",
   "execution_count": null,
   "id": "0c6811a0-1afd-41ad-a756-3f9b0037107b",
   "metadata": {},
   "outputs": [],
   "source": [
    "str=\"Hi hello 7656 this ^%&%$ is Nagul\"\n",
    "\n",
    "                                                                 "
   ]
  }
 ],
 "metadata": {
  "kernelspec": {
   "display_name": "Python 3 (ipykernel)",
   "language": "python",
   "name": "python3"
  },
  "language_info": {
   "codemirror_mode": {
    "name": "ipython",
    "version": 3
   },
   "file_extension": ".py",
   "mimetype": "text/x-python",
   "name": "python",
   "nbconvert_exporter": "python",
   "pygments_lexer": "ipython3",
   "version": "3.11.7"
  }
 },
 "nbformat": 4,
 "nbformat_minor": 5
}
