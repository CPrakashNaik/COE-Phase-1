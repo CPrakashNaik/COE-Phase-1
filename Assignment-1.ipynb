{
 "cells": [
  {
   "cell_type": "code",
   "execution_count": 1,
   "id": "0dc2664e-845e-4a56-a6f6-fc6e96d3cb73",
   "metadata": {},
   "outputs": [
    {
     "name": "stdin",
     "output_type": "stream",
     "text": [
      "Enter the distance in feet :  3\n"
     ]
    },
    {
     "name": "stdout",
     "output_type": "stream",
     "text": [
      "\n",
      "Distance in feet   : 3.0\n",
      "Distance in inches : 36.0\n",
      "Distance in yards  : 1.0\n",
      "Distance in miles  : 0.0005681818181818182\n"
     ]
    }
   ],
   "source": [
    "feet = float(input(\"Enter the distance in feet : \"))\n",
    "\n",
    "inches = feet * 12              \n",
    "yards = feet / 3               \n",
    "miles = feet / 5280             \n",
    "\n",
    "print(\"\\nDistance in feet   :\", feet)\n",
    "print(\"Distance in inches :\", inches)\n",
    "print(\"Distance in yards  :\", yards)\n",
    "print(\"Distance in miles  :\", miles)"
   ]
  },
  {
   "cell_type": "code",
   "execution_count": 1,
   "id": "a36f27e5-2a00-4437-9b7c-68e4c4ea6cf3",
   "metadata": {},
   "outputs": [
    {
     "name": "stdin",
     "output_type": "stream",
     "text": [
      "Enter Student Number:  12345\n",
      "Enter Student Name:  Prakash\n",
      "Enter marks in C:  60\n",
      "Enter marks in C++:  70\n",
      "Enter marks in Java:  50\n"
     ]
    },
    {
     "name": "stdout",
     "output_type": "stream",
     "text": [
      "\n",
      "--- Student Result ---\n",
      "Student Number : 12345\n",
      "Name           : Prakash\n",
      "Marks in C     : 60.0\n",
      "Marks in C++   : 70.0\n",
      "Marks in Java  : 50.0\n",
      "Total Marks    : 180.0\n",
      "Average Marks  : 60.00\n",
      "Result         : Fail\n",
      "Grade          : F\n"
     ]
    }
   ],
   "source": [
    "\n",
    "student_number = input(\"Enter Student Number: \")\n",
    "name = input(\"Enter Student Name: \")\n",
    "\n",
    "c_marks = float(input(\"Enter marks in C: \"))\n",
    "cpp_marks = float(input(\"Enter marks in C++: \"))\n",
    "java_marks = float(input(\"Enter marks in Java: \"))\n",
    "\n",
    "total = c_marks + cpp_marks + java_marks\n",
    "average = total / 3\n",
    "\n",
    "if average >= 70:\n",
    "    result = \"Pass\"\n",
    "else:\n",
    "    result = \"Fail\"\n",
    "\n",
    "if average >= 90:\n",
    "    grade = \"A+\"\n",
    "elif average >= 80:\n",
    "    grade = \"A\"\n",
    "elif average >= 70:\n",
    "    grade = \"B\"\n",
    "else:\n",
    "    grade = \"F\"\n",
    "\n",
    "print(\"\\n--- Student Result ---\")\n",
    "print(f\"Student Number : {student_number}\")\n",
    "print(f\"Name           : {name}\")\n",
    "print(f\"Marks in C     : {c_marks}\")\n",
    "print(f\"Marks in C++   : {cpp_marks}\")\n",
    "print(f\"Marks in Java  : {java_marks}\")\n",
    "print(f\"Total Marks    : {total}\")\n",
    "print(f\"Average Marks  : {average:.2f}\")\n",
    "print(f\"Result         : {result}\")\n",
    "print(f\"Grade          : {grade}\")"
   ]
  },
  {
   "cell_type": "code",
   "execution_count": null,
   "id": "45a4d9b0-163a-4d39-8087-58ee6e451aaf",
   "metadata": {},
   "outputs": [],
   "source": []
  }
 ],
 "metadata": {
  "kernelspec": {
   "display_name": "Python 3 (ipykernel)",
   "language": "python",
   "name": "python3"
  },
  "language_info": {
   "codemirror_mode": {
    "name": "ipython",
    "version": 3
   },
   "file_extension": ".py",
   "mimetype": "text/x-python",
   "name": "python",
   "nbconvert_exporter": "python",
   "pygments_lexer": "ipython3",
   "version": "3.11.7"
  }
 },
 "nbformat": 4,
 "nbformat_minor": 5
}
