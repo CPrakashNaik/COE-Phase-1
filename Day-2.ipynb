{
 "cells": [
  {
   "cell_type": "code",
   "execution_count": 1,
   "id": "1bf64f63-811b-4c00-ab47-1c790a22b7f3",
   "metadata": {},
   "outputs": [
    {
     "name": "stdout",
     "output_type": "stream",
     "text": [
      "10\n",
      "10.0\n"
     ]
    }
   ],
   "source": [
    "#int --> float\n",
    "a= 10\n",
    "b= float(a)\n",
    "print(a)\n",
    "print(b)\n"
   ]
  },
  {
   "cell_type": "code",
   "execution_count": 3,
   "id": "7ee28778-c37d-4063-8859-8a9c6dec2e91",
   "metadata": {},
   "outputs": [
    {
     "name": "stdout",
     "output_type": "stream",
     "text": [
      "10.33\n",
      "10\n"
     ]
    }
   ],
   "source": [
    "#float --> int\n",
    "a=10.33\n",
    "b=int(a)\n",
    "print(a)\n",
    "print(b)"
   ]
  },
  {
   "cell_type": "code",
   "execution_count": 4,
   "id": "ca45e49e-a905-4039-a893-cdfb8e29eef6",
   "metadata": {},
   "outputs": [
    {
     "name": "stdout",
     "output_type": "stream",
     "text": [
      "10\n",
      "10\n"
     ]
    }
   ],
   "source": [
    "#int-->str\n",
    "a=10\n",
    "b=str(a)\n",
    "print(a)\n",
    "print(b)"
   ]
  },
  {
   "cell_type": "code",
   "execution_count": 5,
   "id": "a14a704e-66cf-4fc1-82cb-dc32bb2a77be",
   "metadata": {},
   "outputs": [
    {
     "name": "stdout",
     "output_type": "stream",
     "text": [
      "10\n",
      "10\n"
     ]
    }
   ],
   "source": [
    "#str-->int\n",
    "a='10'\n",
    "b=int(a)\n",
    "print(a)\n",
    "print(b)"
   ]
  },
  {
   "cell_type": "code",
   "execution_count": 6,
   "id": "d9a7fe45-7cf7-4b21-85ad-0a8e9457b2bc",
   "metadata": {},
   "outputs": [
    {
     "name": "stdout",
     "output_type": "stream",
     "text": [
      "10.32\n",
      "10.32\n"
     ]
    }
   ],
   "source": [
    "#str --> float\n",
    "a='10.32'\n",
    "b=float(a)\n",
    "print(a)\n",
    "print(b)"
   ]
  },
  {
   "cell_type": "code",
   "execution_count": 7,
   "id": "d0321014-fb8f-44d3-9542-b18ac32cfe2b",
   "metadata": {},
   "outputs": [
    {
     "name": "stdout",
     "output_type": "stream",
     "text": [
      "10.56\n",
      "10.56\n"
     ]
    }
   ],
   "source": [
    "#float --> str\n",
    "a=10.56\n",
    "b=str(a)\n",
    "print(a)\n",
    "print(b)"
   ]
  },
  {
   "cell_type": "code",
   "execution_count": 11,
   "id": "f31ced46-8cdb-430a-af04-faa6ff1f4938",
   "metadata": {},
   "outputs": [
    {
     "name": "stdin",
     "output_type": "stream",
     "text": [
      "Enter the Amount 25300\n"
     ]
    },
    {
     "name": "stdout",
     "output_type": "stream",
     "text": [
      "500 note are  50\n",
      "200 note are  1\n",
      "100 note are  1\n"
     ]
    }
   ],
   "source": [
    "amount= int(input(\"Enter the Amount\"))\n",
    "five=0\n",
    "two=0\n",
    "one=0\n",
    "if amount % 100==0:\n",
    "    if amount >=500:\n",
    "        five = amount//500\n",
    "        print(\"500 note are \",five)\n",
    "        amount= amount-(five*500)\n",
    "    if amount >=200:\n",
    "        two = amount//200\n",
    "        print(\"200 note are \",two)\n",
    "        amount= amount-(two*200)\n",
    "    if amount >=100:\n",
    "        one = amount//100\n",
    "        print(\"100 note are \",one)\n",
    "        amount= amount-(one*100)\n",
    "else :\n",
    "    print(\"enter above 1oo\")\n",
    "        "
   ]
  },
  {
   "cell_type": "code",
   "execution_count": 8,
   "id": "7bb68771-2f15-4aca-99d7-5d7667df1e1e",
   "metadata": {},
   "outputs": [
    {
     "name": "stdin",
     "output_type": "stream",
     "text": [
      "Enter the Basic Salary 25000\n"
     ]
    },
    {
     "name": "stdout",
     "output_type": "stream",
     "text": [
      "65250.0\n"
     ]
    }
   ],
   "source": [
    "bs= float(input(\"Enter the Basic Salary\"))\n",
    "if bs < 20000:\n",
    "    hra = 0.76*bs\n",
    "    da = 0.78*bs\n",
    "elif 20000 <= bs <= 30000:\n",
    "    hra = 0.79 * bs\n",
    "    da = 0.82 * bs\n",
    "elif bs > 30000:\n",
    "    hra = 0.85 * bs\n",
    "    da = 0.89 * bs\n",
    "gs = bs+hra+da\n",
    "print(gs)"
   ]
  },
  {
   "cell_type": "code",
   "execution_count": 12,
   "id": "b4dc2aeb-e0d9-4e68-b54d-cf22a22ac09d",
   "metadata": {},
   "outputs": [
    {
     "name": "stdin",
     "output_type": "stream",
     "text": [
      "Enter your salary  1000000\n"
     ]
    },
    {
     "data": {
      "text/plain": [
       "50000.0"
      ]
     },
     "execution_count": 12,
     "metadata": {},
     "output_type": "execute_result"
    }
   ],
   "source": [
    "salary = int (input(\"Enter your salary \"))\n",
    "if salary <=500000:\n",
    "    tds = 0*salary \n",
    "else:\n",
    "    if salary<=700000:\n",
    "        tds = 0.05*(salary-500000)\n",
    "    elif salary<=1000000:\n",
    "        tds = 0.10*(salary - 500000)\n",
    "    elif salary <= 1500000:\n",
    "        tds = (200000 * 0.05) + (300000 * 0.10) + (salary - 1000000) * 0.15\n",
    "    elif salary<=2000000:\n",
    "        tds = (200000 * 0.05) + (300000 * 0.10) + (500000 * 0.15) + (salary - 1500000) * 0.20\n",
    "    else:\n",
    "        tds = (200000 * 0.05) + (300000 * 0.10) + (500000 * 0.15) + (500000 * 0.20) + (salary - 2000000) * 0.30\n",
    "\n",
    "tds"
   ]
  },
  {
   "cell_type": "code",
   "execution_count": null,
   "id": "7a2543b3-57bd-4fc7-aee4-e8ef3c87b6de",
   "metadata": {},
   "outputs": [],
   "source": [
    " "
   ]
  },
  {
   "cell_type": "code",
   "execution_count": null,
   "id": "e34314ce-2f33-4946-a44c-3795a6eb172a",
   "metadata": {},
   "outputs": [],
   "source": []
  },
  {
   "cell_type": "code",
   "execution_count": null,
   "id": "405d4d4f-2249-481d-a620-65b0367b848e",
   "metadata": {},
   "outputs": [],
   "source": []
  }
 ],
 "metadata": {
  "kernelspec": {
   "display_name": "Python 3 (ipykernel)",
   "language": "python",
   "name": "python3"
  },
  "language_info": {
   "codemirror_mode": {
    "name": "ipython",
    "version": 3
   },
   "file_extension": ".py",
   "mimetype": "text/x-python",
   "name": "python",
   "nbconvert_exporter": "python",
   "pygments_lexer": "ipython3",
   "version": "3.11.7"
  }
 },
 "nbformat": 4,
 "nbformat_minor": 5
}
